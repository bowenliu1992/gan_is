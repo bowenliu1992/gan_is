{
 "cells": [
  {
   "cell_type": "code",
   "execution_count": 350,
   "metadata": {},
   "outputs": [],
   "source": [
    "import numpy as np\n",
    "from scipy.stats import truncnorm, expon, norm, beta\n",
    "\n",
    "#np.random.seed(seed = 666)\n",
    "\n",
    "# goal: compute Prob(X > gamma) where X ~ exp(1)\n",
    "gamma = 1\n",
    "\n",
    "# sample size\n",
    "n = 1000\n",
    "\n",
    "# generate {x_i}_{i = 1}^n\n"
   ]
  },
  {
   "cell_type": "code",
   "execution_count": 19,
   "metadata": {},
   "outputs": [],
   "source": [
    "def density(X):\n",
    "    return expon.pdf(X, scale = 1)\n",
    "\n",
    "def grad_density(X):\n",
    "    return -expon.pdf(X, scale = 1)\n",
    "\n",
    "def left_score_fn(X):\n",
    "    Z = np.array([X])\n",
    "    Y = np.transpose(Z)\n",
    "    return np.divide(grad_density(Y), density(Y))\n",
    "    \n",
    "def right_score_fn(X):\n",
    "    return np.transpose(left_score_fn(X))\n",
    "\n",
    "def constr(X):\n",
    "    return X - 0\n",
    "\n",
    "def grad_constr(X):\n",
    "    return np.ones(X.shape)\n",
    "\n",
    "def k_mat(X, h, c):\n",
    "    \n",
    "    Z = np.array([X])\n",
    "    Y = np.transpose(Z)\n",
    "    term1 = Y - Z\n",
    "    term2 = np.log(constr(Y)) - np.log(constr(Z))\n",
    "    \n",
    "    return np.exp(- np.square(term1) / 2 / h**2 - np.square(term2) * c / 2)\n",
    "\n",
    "def grad_left_k_mat(X, h, c):\n",
    "    \n",
    "    Z = np.array([X])\n",
    "    Y = np.transpose(Z)\n",
    "    term1 = Y - Z\n",
    "    term2 = np.log(constr(Y)) - np.log(constr(Z))\n",
    "    term3 = np.divide(grad_constr(Y), constr(Y))\n",
    "    \n",
    "    return np.multiply(k_mat(X, h, c), - term1 / h**2 - c * np.multiply(term2, term3)), - term1 / h**2 - c * np.multiply(term2, term3)\n",
    "\n",
    "def grad_right_k_mat(X, h, c):\n",
    "    \n",
    "    Z = np.array([X])\n",
    "    Y = np.transpose(Z)\n",
    "    term1 = Y - Z\n",
    "    term2 = np.log(constr(Y)) - np.log(constr(Z))\n",
    "    term3 = np.divide(grad_constr(Z), constr(Z))\n",
    "    \n",
    "    return np.multiply(k_mat(X, h, c), term1 / h**2 + c * np.multiply(term2, term3)), term1 / h**2 + c * np.multiply(term2, term3)\n",
    "    \n",
    "def Hessian_k_mat(X, h, c):\n",
    "    \n",
    "    Z = np.array([X])\n",
    "    Y = np.transpose(Z)\n",
    "    grad_left, byproduct_left = grad_left_k_mat(X, h, c)\n",
    "    grad_right, byproduct_right = grad_right_k_mat(X, h, c)\n",
    "    term = 1 / h**2 + c * np.multiply(np.divide(grad_constr(Y), constr(Y)), np.divide(grad_constr(Z), constr(Z)))\n",
    "    \n",
    "    return np.multiply(k_mat(X, h, c), term) + np.multiply(k_mat(X, h, c), np.multiply(byproduct_left, byproduct_right))"
   ]
  },
  {
   "cell_type": "code",
   "execution_count": 20,
   "metadata": {},
   "outputs": [],
   "source": [
    "# X_2\n",
    "h = 1\n",
    "c = 1\n",
    "X = expon.rvs(scale = 1, size = n)   # scale = 1 / \\lambda\n",
    "#X = truncnorm.rvs(0, np.Inf, loc = 0, scale = 0.5, size = n)   # choose scale = 1 or 0.5?\n",
    "grad_left, _ = grad_left_k_mat(X, h, c)\n",
    "grad_right, _ = grad_right_k_mat(X, h, c)\n",
    "Kp = np.multiply(left_score_fn(X), np.multiply(k_mat(X, h, c), right_score_fn(X))) + np.multiply(left_score_fn(X), grad_right) +  \\\n",
    "     np.multiply(grad_left, right_score_fn(X)) + Hessian_k_mat(X, h, c)"
   ]
  },
  {
   "cell_type": "markdown",
   "metadata": {},
   "source": [
    "def verify_Kp_exp(X, h, c):\n",
    "    \n",
    "    n = X.shape[0]\n",
    "    Kp = np.zeros((n, n))\n",
    "    \n",
    "    for i in range(n):\n",
    "        for j in range(n):\n",
    "            x = X[i]\n",
    "            y = X[j]\n",
    "            t = np.square(x - y) / 2 / h**2\n",
    "            tt = c * np.square(np.log(x) - np.log(y)) / 2\n",
    "            ttt = ((x - y) / h**2 + c * (np.log(x) - np.log(y)) / y) * ((y - x) / h**2 + c * (np.log(y) - np.log(x)) / x)\n",
    "            Kp[i, j] += np.exp(- t - tt) + (-1) * ((x - y) / h**2 + c * (np.log(x) - np.log(y)) / y) * np.exp(- t - tt) + (-1) * ((y - x) / h**2 + c * (np.log(y) - np.log(x)) / x) * np.exp(- t - tt) + np.exp(- t - tt) * (1 / h**2 + c / x / y) + np.exp(- t - tt) * ttt\n",
    "    \n",
    "    return Kp"
   ]
  },
  {
   "cell_type": "markdown",
   "metadata": {},
   "source": [
    "Kp_v = verify_Kp_exp(X, h, c)\n",
    "np.square((Kp_v - Kp)).sum()"
   ]
  },
  {
   "cell_type": "code",
   "execution_count": 21,
   "metadata": {},
   "outputs": [
    {
     "name": "stdout",
     "output_type": "stream",
     "text": [
      "     pcost       dcost       gap    pres   dres\n",
      " 0:  1.3581e-01 -9.1304e-01  4e+03  7e+01  7e+01\n",
      " 1:  1.4016e-01 -9.0155e-01  9e+01  1e+00  1e+00\n",
      " 2:  1.6663e-01 -8.3845e-01  1e+01  1e-01  1e-01\n",
      " 3:  2.0066e-01 -9.1518e-01  4e+00  4e-02  4e-02\n",
      " 4:  2.1308e-01 -6.3299e-01  1e+00  9e-03  1e-02\n",
      " 5:  2.0716e-01 -3.1487e-01  7e-01  4e-03  4e-03\n",
      " 6:  1.8392e-01 -1.4689e-01  4e-01  2e-03  2e-03\n",
      " 7:  1.5813e-01 -3.4226e-02  2e-01  2e-16  2e-12\n",
      " 8:  1.4608e-01  1.1927e-01  3e-02  9e-16  2e-12\n",
      " 9:  1.4554e-01  1.2781e-01  2e-02  8e-16  4e-12\n",
      "10:  1.4506e-01  1.4182e-01  3e-03  9e-16  1e-12\n",
      "11:  1.4497e-01  1.4358e-01  1e-03  4e-17  8e-13\n",
      "12:  1.4494e-01  1.4424e-01  7e-04  7e-16  2e-12\n",
      "13:  1.4492e-01  1.4468e-01  2e-04  7e-16  7e-13\n",
      "14:  1.4492e-01  1.4474e-01  2e-04  6e-16  3e-12\n",
      "15:  1.4491e-01  1.4483e-01  8e-05  2e-16  9e-13\n",
      "16:  1.4491e-01  1.4486e-01  5e-05  2e-16  3e-12\n",
      "17:  1.4491e-01  1.4489e-01  2e-05  1e-15  1e-12\n",
      "18:  1.4491e-01  1.4490e-01  6e-06  1e-15  2e-12\n",
      "19:  1.4491e-01  1.4490e-01  3e-06  4e-16  1e-12\n",
      "20:  1.4490e-01  1.4490e-01  1e-06  5e-17  2e-12\n",
      "21:  1.4490e-01  1.4490e-01  6e-07  4e-16  1e-12\n",
      "22:  1.4490e-01  1.4490e-01  5e-07  3e-15  9e-13\n",
      "23:  1.4490e-01  1.4490e-01  4e-07  3e-15  7e-13\n",
      "24:  1.4490e-01  1.4490e-01  2e-07  2e-15  6e-13\n",
      "25:  1.4490e-01  1.4490e-01  9e-08  9e-16  1e-12\n",
      "Optimal solution found.\n"
     ]
    }
   ],
   "source": [
    "from cvxopt import matrix, solvers\n",
    "\n",
    "d = Kp.shape[0]\n",
    "Q = 2 * matrix(Kp)\n",
    "p = matrix(np.zeros(d))\n",
    "G = matrix(- np.identity(d))\n",
    "h = matrix(np.zeros(d))\n",
    "A = matrix(np.ones(d), (1, d))\n",
    "b = matrix(1.0)\n",
    "res = solvers.qp(Q, p, G, h, A, b)\n",
    "w = np.array(res['x'])\n",
    "\n",
    "def hh(X, gamma):\n",
    "    Y = np.array([X])\n",
    "    return Y > gamma"
   ]
  },
  {
   "cell_type": "code",
   "execution_count": 22,
   "metadata": {},
   "outputs": [
    {
     "name": "stdout",
     "output_type": "stream",
     "text": [
      "Theoretical min 19.42688166392626\n",
      "Actual min [[0.14490394]]\n"
     ]
    }
   ],
   "source": [
    "print('Theoretical min', Kp.sum() / n**2)  \n",
    "print('Actual min', np.dot(np.transpose(w), np.dot(Kp, w)))"
   ]
  },
  {
   "cell_type": "code",
   "execution_count": 25,
   "metadata": {},
   "outputs": [
    {
     "data": {
      "text/plain": [
       "0.36787944117144233"
      ]
     },
     "execution_count": 25,
     "metadata": {},
     "output_type": "execute_result"
    }
   ],
   "source": [
    "# true answer\n",
    "1 - expon.cdf(gamma, scale = 1)"
   ]
  },
  {
   "cell_type": "code",
   "execution_count": 23,
   "metadata": {},
   "outputs": [
    {
     "data": {
      "text/plain": [
       "array([[0.65145985]])"
      ]
     },
     "execution_count": 23,
     "metadata": {},
     "output_type": "execute_result"
    }
   ],
   "source": [
    "# Stein est\n",
    "est = np.dot(hh(X, gamma), w)\n",
    "est"
   ]
  },
  {
   "cell_type": "code",
   "execution_count": 24,
   "metadata": {},
   "outputs": [
    {
     "data": {
      "text/plain": [
       "0.36575"
      ]
     },
     "execution_count": 24,
     "metadata": {},
     "output_type": "execute_result"
    }
   ],
   "source": [
    "# MC est\n",
    "hh(X, gamma).mean()"
   ]
  },
  {
   "cell_type": "code",
   "execution_count": null,
   "metadata": {},
   "outputs": [],
   "source": []
  },
  {
   "cell_type": "code",
   "execution_count": null,
   "metadata": {},
   "outputs": [],
   "source": []
  },
  {
   "cell_type": "code",
   "execution_count": null,
   "metadata": {},
   "outputs": [],
   "source": []
  },
  {
   "cell_type": "code",
   "execution_count": 26,
   "metadata": {},
   "outputs": [],
   "source": [
    "# test c = 0"
   ]
  },
  {
   "cell_type": "code",
   "execution_count": 56,
   "metadata": {},
   "outputs": [],
   "source": [
    "def density(X):\n",
    "    return norm.pdf(X)\n",
    "\n",
    "def grad_density(X):\n",
    "    return np.multiply(-X, norm.pdf(X))\n",
    "\n",
    "def left_score_fn(X):\n",
    "    Z = np.array([X])\n",
    "    Y = np.transpose(Z)\n",
    "    return np.divide(grad_density(Y), density(Y))\n",
    "    \n",
    "def right_score_fn(X):\n",
    "    return np.transpose(left_score_fn(X))\n",
    "\n",
    "def k_mat(X, h):\n",
    "    Z = np.array([X])\n",
    "    Y = np.transpose(Z)\n",
    "    term = Y - Z\n",
    "    return np.exp(- np.square(term) / 2 / h**2)\n",
    "\n",
    "def grad_left_k_mat(X, h):\n",
    "    Z = np.array([X])\n",
    "    Y = np.transpose(Z)\n",
    "    term = (Y - Z) / h**2\n",
    "    return np.multiply(k_mat(X, h), - term), - term\n",
    "\n",
    "def grad_right_k_mat(X, h):\n",
    "    grad_left, term = grad_left_k_mat(X, h)\n",
    "    return np.transpose(grad_left), -term\n",
    "    \n",
    "def Hessian_k_mat(X, h):\n",
    "    Z = np.array([X])\n",
    "    Y = np.transpose(Z)\n",
    "    grad_left, byproduct_left = grad_left_k_mat(X, h)\n",
    "    grad_right, byproduct_right = grad_right_k_mat(X, h)\n",
    "    return k_mat(X, h) / h**2 + np.multiply(k_mat(X, h), np.multiply(byproduct_left, byproduct_right))"
   ]
  },
  {
   "cell_type": "markdown",
   "metadata": {},
   "source": [
    "def verify_Kp(X, h):\n",
    "    \n",
    "    n = X.shape[0]\n",
    "    Kp = np.zeros((n, n))\n",
    "    \n",
    "    for i in range(n):\n",
    "        for j in range(n):\n",
    "            x = X[i]\n",
    "            y = X[j]\n",
    "            t = np.square(x - y) / 2 / h**2\n",
    "            Kp[i, j] += x * y * np.exp(-t) + (-x) * (x - y) * np.exp(-t) / h**2 + (-y) * (y - x) * np.exp(-t) / h**2 + np.exp(-t) / h**2 - (x - y)**2 * np.exp(-t) / h**4\n",
    "\n",
    "    return Kp"
   ]
  },
  {
   "cell_type": "code",
   "execution_count": 58,
   "metadata": {},
   "outputs": [],
   "source": [
    "from cvxopt import matrix, solvers\n",
    "solvers.options['show_progress'] = False\n",
    "\n",
    "def hh(X, gamma):\n",
    "    Y = np.array([X])\n",
    "    return Y > gamma\n",
    "\n",
    "def test_h(h, n = 1000, gamma = 1, iters = 100):\n",
    "    \n",
    "    est_mat = np.zeros(iters)\n",
    "    MC_mat = np.zeros(iters)\n",
    "    \n",
    "    for i in range(iters):\n",
    "        \n",
    "        #print('i =', i)\n",
    "        \n",
    "        X = np.random.normal(0, 1, n)\n",
    "\n",
    "        grad_left, _ = grad_left_k_mat(X, h)\n",
    "        grad_right, _ = grad_right_k_mat(X, h)\n",
    "        Kp = np.multiply(left_score_fn(X), np.multiply(k_mat(X, h), right_score_fn(X))) + np.multiply(left_score_fn(X), grad_right) +  \\\n",
    "             np.multiply(grad_left, right_score_fn(X)) + Hessian_k_mat(X, h)\n",
    "        #Kp_v = verify_Kp(X, h)\n",
    "        #Kp_v\n",
    "        #(Kp_v - Kp).sum()\n",
    "        \n",
    "        #print('Kp sum', Kp.sum())\n",
    "        #print('Theoretical min', Kp.sum() / n**2)\n",
    "    \n",
    "        d = Kp.shape[0]\n",
    "        Q = 2 * matrix(Kp)\n",
    "        p = matrix(np.zeros(d))\n",
    "        G = matrix(- np.identity(d))\n",
    "        H = matrix(np.zeros(d))\n",
    "        A = matrix(np.ones(d), (1, d))\n",
    "        b = matrix(1.0)\n",
    "        res = solvers.qp(Q, p, G, H, A, b)\n",
    "        w = np.array(res['x'])\n",
    "        \n",
    "        #print('Actual min', np.dot(np.transpose(w), np.dot(Kp, w)))\n",
    "    \n",
    "        est = np.dot(hh(X, gamma), w)\n",
    "        est_mat[i] = est\n",
    "        MC_mat[i] = hh(X, gamma).mean()\n",
    "        \n",
    "    return est_mat, MC_mat"
   ]
  },
  {
   "cell_type": "code",
   "execution_count": 36,
   "metadata": {},
   "outputs": [
    {
     "data": {
      "text/plain": [
       "0.15865525393145707"
      ]
     },
     "execution_count": 36,
     "metadata": {},
     "output_type": "execute_result"
    }
   ],
   "source": [
    "# true answer\n",
    "1 - norm.cdf(1)"
   ]
  },
  {
   "cell_type": "code",
   "execution_count": 37,
   "metadata": {},
   "outputs": [
    {
     "data": {
      "text/plain": [
       "0.15789"
      ]
     },
     "execution_count": 37,
     "metadata": {},
     "output_type": "execute_result"
    }
   ],
   "source": [
    "est_mat, MC_mat = test_h(h = 1)\n",
    "\n",
    "# MC mean\n",
    "MC_mat.mean()"
   ]
  },
  {
   "cell_type": "code",
   "execution_count": 38,
   "metadata": {},
   "outputs": [
    {
     "data": {
      "text/plain": [
       "0.0001434835135796105"
      ]
     },
     "execution_count": 38,
     "metadata": {},
     "output_type": "execute_result"
    }
   ],
   "source": [
    "# MC MSE\n",
    "np.square(MC_mat - (1 - norm.cdf(1))).sum() / MC_mat.shape[0]"
   ]
  },
  {
   "cell_type": "code",
   "execution_count": 39,
   "metadata": {},
   "outputs": [
    {
     "data": {
      "text/plain": [
       "0.1612923026954622"
      ]
     },
     "execution_count": 39,
     "metadata": {},
     "output_type": "execute_result"
    }
   ],
   "source": [
    "# Stein mean\n",
    "est_mat.mean()"
   ]
  },
  {
   "cell_type": "code",
   "execution_count": 40,
   "metadata": {},
   "outputs": [
    {
     "data": {
      "text/plain": [
       "0.0002441128440925012"
      ]
     },
     "execution_count": 40,
     "metadata": {},
     "output_type": "execute_result"
    }
   ],
   "source": [
    "# Stein MSE\n",
    "np.square(est_mat - (1 - norm.cdf(1))).sum() / est_mat.shape[0]"
   ]
  },
  {
   "cell_type": "code",
   "execution_count": 59,
   "metadata": {},
   "outputs": [
    {
     "data": {
      "text/plain": [
       "0.15767"
      ]
     },
     "execution_count": 59,
     "metadata": {},
     "output_type": "execute_result"
    }
   ],
   "source": [
    "est_mat, MC_mat = test_h(h = 0.2)\n",
    "\n",
    "# MC mean\n",
    "MC_mat.mean()"
   ]
  },
  {
   "cell_type": "code",
   "execution_count": 60,
   "metadata": {},
   "outputs": [
    {
     "data": {
      "text/plain": [
       "0.00013315182530945164"
      ]
     },
     "execution_count": 60,
     "metadata": {},
     "output_type": "execute_result"
    }
   ],
   "source": [
    "# MC MSE\n",
    "np.square(MC_mat - (1 - norm.cdf(1))).sum() / MC_mat.shape[0]"
   ]
  },
  {
   "cell_type": "code",
   "execution_count": 61,
   "metadata": {},
   "outputs": [
    {
     "data": {
      "text/plain": [
       "0.15690506130205986"
      ]
     },
     "execution_count": 61,
     "metadata": {},
     "output_type": "execute_result"
    }
   ],
   "source": [
    "# Stein mean\n",
    "est_mat.mean()"
   ]
  },
  {
   "cell_type": "code",
   "execution_count": 62,
   "metadata": {},
   "outputs": [
    {
     "data": {
      "text/plain": [
       "1.060220104988912e-05"
      ]
     },
     "execution_count": 62,
     "metadata": {},
     "output_type": "execute_result"
    }
   ],
   "source": [
    "# Stein MSE\n",
    "np.square(est_mat - (1 - norm.cdf(1))).sum() / est_mat.shape[0]"
   ]
  },
  {
   "cell_type": "code",
   "execution_count": 45,
   "metadata": {},
   "outputs": [
    {
     "data": {
      "text/plain": [
       "0.006209665325776159"
      ]
     },
     "execution_count": 45,
     "metadata": {},
     "output_type": "execute_result"
    }
   ],
   "source": [
    "# true answer\n",
    "1 - norm.cdf(2.5)"
   ]
  },
  {
   "cell_type": "code",
   "execution_count": 46,
   "metadata": {},
   "outputs": [
    {
     "data": {
      "text/plain": [
       "0.005900000000000001"
      ]
     },
     "execution_count": 46,
     "metadata": {},
     "output_type": "execute_result"
    }
   ],
   "source": [
    "est_mat, MC_mat = test_h(h = 1, gamma = 2.5)\n",
    "\n",
    "# MC mean\n",
    "MC_mat.mean()"
   ]
  },
  {
   "cell_type": "code",
   "execution_count": 47,
   "metadata": {},
   "outputs": [
    {
     "data": {
      "text/plain": [
       "5.605892613988053e-06"
      ]
     },
     "execution_count": 47,
     "metadata": {},
     "output_type": "execute_result"
    }
   ],
   "source": [
    "# MC MSE\n",
    "np.square(MC_mat - (1 - norm.cdf(2.5))).sum() / MC_mat.shape[0]"
   ]
  },
  {
   "cell_type": "code",
   "execution_count": 48,
   "metadata": {},
   "outputs": [
    {
     "data": {
      "text/plain": [
       "0.005920983841653566"
      ]
     },
     "execution_count": 48,
     "metadata": {},
     "output_type": "execute_result"
    }
   ],
   "source": [
    "# Stein mean\n",
    "est_mat.mean()"
   ]
  },
  {
   "cell_type": "code",
   "execution_count": 49,
   "metadata": {},
   "outputs": [
    {
     "data": {
      "text/plain": [
       "8.165402029830791e-06"
      ]
     },
     "execution_count": 49,
     "metadata": {},
     "output_type": "execute_result"
    }
   ],
   "source": [
    "# Stein MSE\n",
    "np.square(est_mat - (1 - norm.cdf(2.5))).sum() / est_mat.shape[0]"
   ]
  },
  {
   "cell_type": "code",
   "execution_count": null,
   "metadata": {},
   "outputs": [],
   "source": []
  },
  {
   "cell_type": "code",
   "execution_count": null,
   "metadata": {},
   "outputs": [],
   "source": []
  },
  {
   "cell_type": "code",
   "execution_count": null,
   "metadata": {},
   "outputs": [],
   "source": []
  },
  {
   "cell_type": "code",
   "execution_count": 63,
   "metadata": {},
   "outputs": [],
   "source": [
    "# what if we feed exponential r.v.'s?\n",
    "\n",
    "from cvxopt import matrix, solvers\n",
    "solvers.options['show_progress'] = False\n",
    "\n",
    "def hh(X, gamma):\n",
    "    Y = np.array([X])\n",
    "    return Y > gamma\n",
    "\n",
    "def test_h(alpha, h, n = 1000, gamma = 1, iters = 100):\n",
    "    \n",
    "    est_mat = np.zeros(iters)\n",
    "    MC_mat = np.zeros(iters)\n",
    "    \n",
    "    for i in range(iters):\n",
    "        \n",
    "        print('i =', i)\n",
    "        \n",
    "        X = np.concatenate((expon.rvs(size = int(n * alpha)), -expon.rvs(size = int(n * (1 - alpha)))))\n",
    "\n",
    "        grad_left, _ = grad_left_k_mat(X, h)\n",
    "        grad_right, _ = grad_right_k_mat(X, h)\n",
    "        Kp = np.multiply(left_score_fn(X), np.multiply(k_mat(X, h), right_score_fn(X))) + np.multiply(left_score_fn(X), grad_right) +  \\\n",
    "             np.multiply(grad_left, right_score_fn(X)) + Hessian_k_mat(X, h)\n",
    "        #Kp_v = verify_Kp(X, h)\n",
    "        #Kp_v\n",
    "        #(Kp_v - Kp).sum()\n",
    "        print('Kp sum', Kp.sum())\n",
    "        print('Theoretical min', Kp.sum() / n**2)\n",
    "    \n",
    "        d = Kp.shape[0]\n",
    "        Q = 2 * matrix(Kp)\n",
    "        p = matrix(np.zeros(d))\n",
    "        G = matrix(- np.identity(d))\n",
    "        H = matrix(np.zeros(d))\n",
    "        A = matrix(np.ones(d), (1, d))\n",
    "        b = matrix(1.0)\n",
    "        res = solvers.qp(Q, p, G, H, A, b)\n",
    "        w = np.array(res['x'])\n",
    "        \n",
    "        print('Actual min', np.dot(np.transpose(w), np.dot(Kp, w)))\n",
    "    \n",
    "        est = np.dot(hh(X, gamma), w)\n",
    "        est_mat[i] = est\n",
    "        MC_mat[i] = hh(X, gamma).mean()\n",
    "        \n",
    "    return est_mat, MC_mat"
   ]
  },
  {
   "cell_type": "code",
   "execution_count": 51,
   "metadata": {},
   "outputs": [
    {
     "data": {
      "text/plain": [
       "0.15865525393145707"
      ]
     },
     "execution_count": 51,
     "metadata": {},
     "output_type": "execute_result"
    }
   ],
   "source": [
    "# true answer\n",
    "1 - norm.cdf(1)"
   ]
  },
  {
   "cell_type": "code",
   "execution_count": 8,
   "metadata": {},
   "outputs": [
    {
     "name": "stdout",
     "output_type": "stream",
     "text": [
      "i = 0\n",
      "Kp sum 544532.8421706052\n",
      "Theoretical min 0.5445328421706052\n",
      "Actual min [[0.2615803]]\n",
      "i = 1\n",
      "Kp sum 528371.7554948394\n",
      "Theoretical min 0.5283717554948394\n",
      "Actual min [[0.26128838]]\n",
      "i = 2\n",
      "Kp sum 549015.9918330084\n",
      "Theoretical min 0.5490159918330083\n",
      "Actual min [[0.26158256]]\n",
      "i = 3\n",
      "Kp sum 597205.8561753645\n",
      "Theoretical min 0.5972058561753645\n",
      "Actual min [[0.26184885]]\n",
      "i = 4\n",
      "Kp sum 505840.3528251238\n",
      "Theoretical min 0.5058403528251239\n",
      "Actual min [[0.26150237]]\n",
      "i = 5\n",
      "Kp sum 540085.9850134862\n",
      "Theoretical min 0.5400859850134863\n",
      "Actual min [[0.26146455]]\n",
      "i = 6\n",
      "Kp sum 531902.1958725034\n",
      "Theoretical min 0.5319021958725034\n",
      "Actual min [[0.26169938]]\n",
      "i = 7\n",
      "Kp sum 545596.253049952\n",
      "Theoretical min 0.545596253049952\n",
      "Actual min [[0.26080598]]\n",
      "i = 8\n",
      "Kp sum 527798.5044122601\n",
      "Theoretical min 0.5277985044122602\n",
      "Actual min [[0.26146421]]\n",
      "i = 9\n",
      "Kp sum 538076.2167094966\n",
      "Theoretical min 0.5380762167094966\n",
      "Actual min [[0.2608464]]\n"
     ]
    },
    {
     "data": {
      "text/plain": [
       "0.39141661284402085"
      ]
     },
     "execution_count": 8,
     "metadata": {},
     "output_type": "execute_result"
    }
   ],
   "source": [
    "est_mat, MC_mat = test_h(alpha = 1, h = 1)\n",
    "\n",
    "# Stein mean\n",
    "est_mat.mean()"
   ]
  },
  {
   "cell_type": "code",
   "execution_count": 10,
   "metadata": {},
   "outputs": [
    {
     "data": {
      "text/plain": [
       "0.054178428676178905"
      ]
     },
     "execution_count": 10,
     "metadata": {},
     "output_type": "execute_result"
    }
   ],
   "source": [
    "# Stein MSE\n",
    "np.square(est_mat - (1 - norm.cdf(1))).sum() / est_mat.shape[0]"
   ]
  },
  {
   "cell_type": "code",
   "execution_count": 52,
   "metadata": {},
   "outputs": [
    {
     "name": "stdout",
     "output_type": "stream",
     "text": [
      "i = 0\n",
      "Kp sum 457456.51841712877\n",
      "Theoretical min 0.45745651841712875\n",
      "Actual min [[2.70298427e-09]]\n",
      "i = 1\n",
      "Kp sum 426998.81489222107\n",
      "Theoretical min 0.4269988148922211\n",
      "Actual min [[1.57484713e-08]]\n",
      "i = 2\n",
      "Kp sum 446794.6978555394\n",
      "Theoretical min 0.4467946978555394\n",
      "Actual min [[9.3267518e-09]]\n",
      "i = 3\n",
      "Kp sum 450946.52161277406\n",
      "Theoretical min 0.45094652161277404\n",
      "Actual min [[1.53219609e-09]]\n",
      "i = 4\n",
      "Kp sum 419912.3932520617\n",
      "Theoretical min 0.4199123932520617\n",
      "Actual min [[2.61465898e-05]]\n",
      "i = 5\n",
      "Kp sum 437055.027564296\n",
      "Theoretical min 0.437055027564296\n",
      "Actual min [[2.20691188e-09]]\n",
      "i = 6\n",
      "Kp sum 425432.4937686699\n",
      "Theoretical min 0.4254324937686699\n",
      "Actual min [[1.4234194e-08]]\n",
      "i = 7\n",
      "Kp sum 421113.24450768525\n",
      "Theoretical min 0.4211132445076852\n",
      "Actual min [[2.84217634e-08]]\n",
      "i = 8\n",
      "Kp sum 448838.90737054544\n",
      "Theoretical min 0.44883890737054544\n",
      "Actual min [[1.83274008e-08]]\n",
      "i = 9\n",
      "Kp sum 443666.37655419466\n",
      "Theoretical min 0.44366637655419466\n",
      "Actual min [[4.53040777e-09]]\n",
      "i = 10\n",
      "Kp sum 429651.8858213902\n",
      "Theoretical min 0.4296518858213902\n",
      "Actual min [[2.11772781e-09]]\n",
      "i = 11\n",
      "Kp sum 430324.64639259083\n",
      "Theoretical min 0.4303246463925908\n",
      "Actual min [[2.77653156e-08]]\n",
      "i = 12\n",
      "Kp sum 440812.74386732135\n",
      "Theoretical min 0.44081274386732133\n",
      "Actual min [[1.86338221e-09]]\n",
      "i = 13\n",
      "Kp sum 412640.19967364316\n",
      "Theoretical min 0.4126401996736432\n",
      "Actual min [[1.13750899e-07]]\n",
      "i = 14\n",
      "Kp sum 428019.10522583\n",
      "Theoretical min 0.42801910522583\n",
      "Actual min [[4.0219584e-08]]\n",
      "i = 15\n",
      "Kp sum 441758.10129749065\n",
      "Theoretical min 0.44175810129749066\n",
      "Actual min [[1.47316943e-08]]\n",
      "i = 16\n",
      "Kp sum 462393.7561689857\n",
      "Theoretical min 0.4623937561689857\n",
      "Actual min [[1.57476635e-09]]\n",
      "i = 17\n",
      "Kp sum 431861.9352826975\n",
      "Theoretical min 0.4318619352826975\n",
      "Actual min [[2.86850049e-07]]\n",
      "i = 18\n",
      "Kp sum 461940.2819264995\n",
      "Theoretical min 0.4619402819264995\n",
      "Actual min [[2.22547281e-09]]\n",
      "i = 19\n",
      "Kp sum 446015.8684374992\n",
      "Theoretical min 0.44601586843749924\n",
      "Actual min [[7.28434811e-08]]\n",
      "i = 20\n",
      "Kp sum 428531.05805426877\n",
      "Theoretical min 0.4285310580542688\n",
      "Actual min [[5.19170041e-10]]\n",
      "i = 21\n",
      "Kp sum 440185.4634386936\n",
      "Theoretical min 0.44018546343869364\n",
      "Actual min [[8.05012176e-09]]\n",
      "i = 22\n",
      "Kp sum 427211.5644853994\n",
      "Theoretical min 0.4272115644853994\n",
      "Actual min [[4.02096234e-09]]\n",
      "i = 23\n",
      "Kp sum 441155.67634573625\n",
      "Theoretical min 0.44115567634573627\n",
      "Actual min [[1.5117586e-09]]\n",
      "i = 24\n",
      "Kp sum 430448.3340782788\n",
      "Theoretical min 0.4304483340782788\n",
      "Actual min [[1.4626846e-09]]\n",
      "i = 25\n",
      "Kp sum 426143.0191805233\n",
      "Theoretical min 0.4261430191805233\n",
      "Actual min [[1.30374784e-08]]\n",
      "i = 26\n",
      "Kp sum 437704.9077028022\n",
      "Theoretical min 0.43770490770280224\n",
      "Actual min [[1.22318443e-08]]\n",
      "i = 27\n",
      "Kp sum 456902.9428495226\n",
      "Theoretical min 0.4569029428495226\n",
      "Actual min [[2.0259899e-08]]\n",
      "i = 28\n",
      "Kp sum 430308.03650195827\n",
      "Theoretical min 0.43030803650195826\n",
      "Actual min [[1.5995437e-07]]\n",
      "i = 29\n",
      "Kp sum 433505.1363184199\n",
      "Theoretical min 0.43350513631841986\n",
      "Actual min [[1.40333403e-06]]\n",
      "i = 30\n",
      "Kp sum 427374.3113064215\n",
      "Theoretical min 0.4273743113064215\n",
      "Actual min [[1.58639343e-08]]\n",
      "i = 31\n",
      "Kp sum 452229.1464563216\n",
      "Theoretical min 0.45222914645632156\n",
      "Actual min [[3.45307282e-08]]\n",
      "i = 32\n",
      "Kp sum 422848.1904145648\n",
      "Theoretical min 0.4228481904145648\n",
      "Actual min [[5.8651068e-09]]\n",
      "i = 33\n",
      "Kp sum 446862.96042323054\n",
      "Theoretical min 0.44686296042323054\n",
      "Actual min [[1.73755433e-09]]\n",
      "i = 34\n",
      "Kp sum 426575.58077065693\n",
      "Theoretical min 0.42657558077065694\n",
      "Actual min [[2.09338389e-07]]\n",
      "i = 35\n",
      "Kp sum 449571.8662564578\n",
      "Theoretical min 0.4495718662564578\n",
      "Actual min [[1.01019009e-07]]\n",
      "i = 36\n",
      "Kp sum 431708.1671981224\n",
      "Theoretical min 0.43170816719812244\n",
      "Actual min [[3.34738525e-08]]\n",
      "i = 37\n",
      "Kp sum 429946.1372712839\n",
      "Theoretical min 0.4299461372712839\n",
      "Actual min [[6.69844414e-07]]\n",
      "i = 38\n",
      "Kp sum 434390.11993278505\n",
      "Theoretical min 0.43439011993278503\n",
      "Actual min [[1.79571171e-08]]\n",
      "i = 39\n",
      "Kp sum 431120.89947979327\n",
      "Theoretical min 0.43112089947979326\n",
      "Actual min [[2.05247929e-05]]\n",
      "i = 40\n",
      "Kp sum 463571.6132416365\n",
      "Theoretical min 0.4635716132416365\n",
      "Actual min [[5.43336203e-09]]\n",
      "i = 41\n",
      "Kp sum 433747.6300916346\n",
      "Theoretical min 0.4337476300916346\n",
      "Actual min [[6.84916587e-09]]\n",
      "i = 42\n",
      "Kp sum 435788.365990413\n",
      "Theoretical min 0.435788365990413\n",
      "Actual min [[1.04152344e-08]]\n",
      "i = 43\n",
      "Kp sum 444367.1779649049\n",
      "Theoretical min 0.44436717796490494\n",
      "Actual min [[2.90973128e-09]]\n",
      "i = 44\n",
      "Kp sum 426008.8060147214\n",
      "Theoretical min 0.4260088060147214\n",
      "Actual min [[3.40151487e-07]]\n",
      "i = 45\n",
      "Kp sum 439745.6316192477\n",
      "Theoretical min 0.43974563161924773\n",
      "Actual min [[1.49142148e-08]]\n",
      "i = 46\n",
      "Kp sum 447178.5214618884\n",
      "Theoretical min 0.4471785214618884\n",
      "Actual min [[2.03843193e-08]]\n",
      "i = 47\n",
      "Kp sum 462462.5040322793\n",
      "Theoretical min 0.4624625040322793\n",
      "Actual min [[1.55360107e-09]]\n",
      "i = 48\n",
      "Kp sum 443816.24408432597\n",
      "Theoretical min 0.44381624408432596\n",
      "Actual min [[4.68147252e-09]]\n",
      "i = 49\n",
      "Kp sum 445059.58010393\n",
      "Theoretical min 0.44505958010393004\n",
      "Actual min [[2.79375459e-05]]\n",
      "i = 50\n",
      "Kp sum 445582.70391945005\n",
      "Theoretical min 0.44558270391945004\n",
      "Actual min [[4.18340215e-07]]\n",
      "i = 51\n",
      "Kp sum 431062.5752803945\n",
      "Theoretical min 0.43106257528039454\n",
      "Actual min [[3.12793825e-09]]\n",
      "i = 52\n",
      "Kp sum 448213.08318670915\n",
      "Theoretical min 0.44821308318670916\n",
      "Actual min [[2.9634881e-09]]\n",
      "i = 53\n",
      "Kp sum 440712.1000247666\n",
      "Theoretical min 0.4407121000247666\n",
      "Actual min [[1.16746426e-07]]\n",
      "i = 54\n",
      "Kp sum 423386.2724275459\n",
      "Theoretical min 0.4233862724275459\n",
      "Actual min [[2.33319285e-09]]\n",
      "i = 55\n",
      "Kp sum 440417.029138163\n",
      "Theoretical min 0.440417029138163\n",
      "Actual min [[7.69014569e-08]]\n",
      "i = 56\n",
      "Kp sum 429068.4900561736\n",
      "Theoretical min 0.4290684900561736\n",
      "Actual min [[1.06055236e-07]]\n",
      "i = 57\n",
      "Kp sum 441237.57622190675\n",
      "Theoretical min 0.44123757622190674\n",
      "Actual min [[2.90979445e-05]]\n",
      "i = 58\n",
      "Kp sum 442789.18592458527\n",
      "Theoretical min 0.44278918592458527\n",
      "Actual min [[2.64929729e-07]]\n",
      "i = 59\n",
      "Kp sum 441329.87468106294\n",
      "Theoretical min 0.44132987468106294\n",
      "Actual min [[1.38685031e-09]]\n",
      "i = 60\n",
      "Kp sum 455373.1220888595\n",
      "Theoretical min 0.4553731220888595\n",
      "Actual min [[5.3743586e-09]]\n",
      "i = 61\n",
      "Kp sum 409467.4379781989\n",
      "Theoretical min 0.4094674379781989\n",
      "Actual min [[4.91345969e-07]]\n",
      "i = 62\n",
      "Kp sum 433881.0629213467\n",
      "Theoretical min 0.4338810629213467\n",
      "Actual min [[8.54537361e-07]]\n",
      "i = 63\n",
      "Kp sum 435978.12529701175\n",
      "Theoretical min 0.43597812529701174\n",
      "Actual min [[2.68103636e-06]]\n",
      "i = 64\n",
      "Kp sum 445685.84796723764\n",
      "Theoretical min 0.44568584796723765\n",
      "Actual min [[3.7327314e-08]]\n",
      "i = 65\n",
      "Kp sum 444672.9308082478\n",
      "Theoretical min 0.4446729308082478\n",
      "Actual min [[6.40467888e-06]]\n",
      "i = 66\n",
      "Kp sum 451387.1715820678\n",
      "Theoretical min 0.4513871715820678\n",
      "Actual min [[6.35006573e-09]]\n",
      "i = 67\n",
      "Kp sum 455643.030305791\n",
      "Theoretical min 0.455643030305791\n",
      "Actual min [[7.47160952e-10]]\n",
      "i = 68\n",
      "Kp sum 430168.4360913107\n",
      "Theoretical min 0.43016843609131067\n",
      "Actual min [[2.70773861e-07]]\n",
      "i = 69\n",
      "Kp sum 435993.93664418196\n",
      "Theoretical min 0.43599393664418196\n",
      "Actual min [[7.51385699e-09]]\n",
      "i = 70\n",
      "Kp sum 432820.01027832075\n",
      "Theoretical min 0.43282001027832073\n",
      "Actual min [[6.04427281e-09]]\n",
      "i = 71\n",
      "Kp sum 426033.17996273946\n",
      "Theoretical min 0.4260331799627395\n",
      "Actual min [[1.4621861e-08]]\n",
      "i = 72\n",
      "Kp sum 430870.7003494061\n",
      "Theoretical min 0.4308707003494061\n",
      "Actual min [[0.00012768]]\n",
      "i = 73\n",
      "Kp sum 453915.8796320683\n",
      "Theoretical min 0.45391587963206825\n",
      "Actual min [[2.02056844e-09]]\n",
      "i = 74\n",
      "Kp sum 432701.87809284794\n",
      "Theoretical min 0.43270187809284794\n",
      "Actual min [[1.71707164e-09]]\n",
      "i = 75\n",
      "Kp sum 444366.4455433076\n",
      "Theoretical min 0.44436644554330756\n",
      "Actual min [[5.98297226e-09]]\n",
      "i = 76\n",
      "Kp sum 438973.4659229958\n",
      "Theoretical min 0.4389734659229958\n",
      "Actual min [[7.68463513e-10]]\n",
      "i = 77\n",
      "Kp sum 404135.52504590264\n",
      "Theoretical min 0.40413552504590267\n",
      "Actual min [[1.08150605e-08]]\n",
      "i = 78\n",
      "Kp sum 436404.7377142653\n",
      "Theoretical min 0.4364047377142653\n",
      "Actual min [[1.63867096e-09]]\n",
      "i = 79\n",
      "Kp sum 448292.0341744511\n",
      "Theoretical min 0.44829203417445107\n",
      "Actual min [[3.8298378e-10]]\n",
      "i = 80\n",
      "Kp sum 452182.37086201506\n",
      "Theoretical min 0.45218237086201507\n",
      "Actual min [[8.61471805e-09]]\n",
      "i = 81\n",
      "Kp sum 436000.66443921265\n",
      "Theoretical min 0.43600066443921265\n",
      "Actual min [[1.76906843e-08]]\n",
      "i = 82\n",
      "Kp sum 422041.0497810133\n",
      "Theoretical min 0.42204104978101326\n",
      "Actual min [[1.23029682e-08]]\n",
      "i = 83\n",
      "Kp sum 453534.79522114637\n",
      "Theoretical min 0.45353479522114637\n",
      "Actual min [[1.0797831e-09]]\n",
      "i = 84\n",
      "Kp sum 436101.6035828647\n",
      "Theoretical min 0.4361016035828647\n"
     ]
    },
    {
     "name": "stdout",
     "output_type": "stream",
     "text": [
      "Actual min [[1.20737416e-06]]\n",
      "i = 85\n",
      "Kp sum 421488.2816581543\n",
      "Theoretical min 0.4214882816581543\n",
      "Actual min [[5.47673551e-08]]\n",
      "i = 86\n",
      "Kp sum 436449.97036146844\n",
      "Theoretical min 0.43644997036146843\n",
      "Actual min [[2.96976709e-05]]\n",
      "i = 87\n",
      "Kp sum 443141.7080805069\n",
      "Theoretical min 0.4431417080805069\n",
      "Actual min [[6.38964391e-09]]\n",
      "i = 88\n",
      "Kp sum 423056.2670641882\n",
      "Theoretical min 0.4230562670641882\n",
      "Actual min [[3.78252289e-08]]\n",
      "i = 89\n",
      "Kp sum 450317.75908066414\n",
      "Theoretical min 0.4503177590806641\n",
      "Actual min [[4.06583715e-10]]\n",
      "i = 90\n",
      "Kp sum 445201.7674750313\n",
      "Theoretical min 0.4452017674750313\n",
      "Actual min [[3.31504726e-09]]\n",
      "i = 91\n",
      "Kp sum 448711.96745436394\n",
      "Theoretical min 0.4487119674543639\n",
      "Actual min [[4.96857941e-08]]\n",
      "i = 92\n",
      "Kp sum 443470.05478926795\n",
      "Theoretical min 0.44347005478926793\n",
      "Actual min [[3.37420963e-09]]\n",
      "i = 93\n",
      "Kp sum 426667.50318171526\n",
      "Theoretical min 0.42666750318171526\n",
      "Actual min [[3.874365e-09]]\n",
      "i = 94\n",
      "Kp sum 452360.3833899954\n",
      "Theoretical min 0.4523603833899954\n",
      "Actual min [[7.30759837e-09]]\n",
      "i = 95\n",
      "Kp sum 436532.7496572932\n",
      "Theoretical min 0.4365327496572932\n",
      "Actual min [[5.32416469e-08]]\n",
      "i = 96\n",
      "Kp sum 439603.9147252311\n",
      "Theoretical min 0.43960391472523114\n",
      "Actual min [[8.92338276e-08]]\n",
      "i = 97\n",
      "Kp sum 439813.14061830647\n",
      "Theoretical min 0.43981314061830645\n",
      "Actual min [[1.71289222e-09]]\n",
      "i = 98\n",
      "Kp sum 454794.53870857984\n",
      "Theoretical min 0.45479453870857983\n",
      "Actual min [[6.35286035e-09]]\n",
      "i = 99\n",
      "Kp sum 434405.57706461643\n",
      "Theoretical min 0.4344055770646164\n",
      "Actual min [[5.9170213e-09]]\n"
     ]
    },
    {
     "data": {
      "text/plain": [
       "0.1546732914198004"
      ]
     },
     "execution_count": 52,
     "metadata": {},
     "output_type": "execute_result"
    }
   ],
   "source": [
    "est_mat, MC_mat = test_h(alpha = 0.95, h = 1)\n",
    "\n",
    "# Stein mean\n",
    "est_mat.mean()"
   ]
  },
  {
   "cell_type": "code",
   "execution_count": 53,
   "metadata": {},
   "outputs": [
    {
     "data": {
      "text/plain": [
       "0.00020415042238649893"
      ]
     },
     "execution_count": 53,
     "metadata": {},
     "output_type": "execute_result"
    }
   ],
   "source": [
    "# Stein MSE\n",
    "np.square(est_mat - (1 - norm.cdf(1))).sum() / est_mat.shape[0]"
   ]
  },
  {
   "cell_type": "code",
   "execution_count": 64,
   "metadata": {},
   "outputs": [
    {
     "name": "stdout",
     "output_type": "stream",
     "text": [
      "i = 0\n",
      "Kp sum 287665.1430983296\n",
      "Theoretical min 0.2876651430983296\n",
      "Actual min [[9.75906677e-07]]\n",
      "i = 1\n",
      "Kp sum 246516.52276857832\n",
      "Theoretical min 0.24651652276857833\n",
      "Actual min [[3.70533339e-05]]\n",
      "i = 2\n",
      "Kp sum 233764.87862367358\n",
      "Theoretical min 0.23376487862367357\n",
      "Actual min [[2.60101385e-07]]\n",
      "i = 3\n",
      "Kp sum 278916.5192690522\n",
      "Theoretical min 0.2789165192690522\n",
      "Actual min [[5.08872348e-08]]\n",
      "i = 4\n",
      "Kp sum 156696.66489663965\n",
      "Theoretical min 0.15669666489663964\n",
      "Actual min [[2.80344318e-07]]\n",
      "i = 5\n",
      "Kp sum 274770.49789027905\n",
      "Theoretical min 0.274770497890279\n",
      "Actual min [[7.90217029e-06]]\n",
      "i = 6\n",
      "Kp sum 288881.2038680939\n",
      "Theoretical min 0.2888812038680939\n",
      "Actual min [[1.00155452e-07]]\n",
      "i = 7\n",
      "Kp sum 228194.2428877319\n",
      "Theoretical min 0.2281942428877319\n",
      "Actual min [[6.50117862e-07]]\n",
      "i = 8\n",
      "Kp sum 240267.30592942124\n",
      "Theoretical min 0.24026730592942125\n",
      "Actual min [[9.94612606e-08]]\n",
      "i = 9\n",
      "Kp sum 313530.20801953884\n",
      "Theoretical min 0.31353020801953885\n",
      "Actual min [[6.80605822e-06]]\n",
      "i = 10\n",
      "Kp sum 166113.96472591822\n",
      "Theoretical min 0.16611396472591822\n",
      "Actual min [[3.33141965e-07]]\n",
      "i = 11\n",
      "Kp sum 178585.10746482166\n",
      "Theoretical min 0.17858510746482165\n",
      "Actual min [[1.36723075e-06]]\n",
      "i = 12\n",
      "Kp sum 277456.34666470357\n",
      "Theoretical min 0.2774563466647036\n",
      "Actual min [[1.55330489e-07]]\n",
      "i = 13\n",
      "Kp sum 246270.3262653511\n",
      "Theoretical min 0.24627032626535109\n",
      "Actual min [[6.72477023e-07]]\n",
      "i = 14\n",
      "Kp sum 239687.20419373087\n",
      "Theoretical min 0.23968720419373088\n",
      "Actual min [[5.7556843e-08]]\n",
      "i = 15\n",
      "Kp sum 235309.07087145624\n",
      "Theoretical min 0.23530907087145622\n",
      "Actual min [[2.21042369e-07]]\n",
      "i = 16\n",
      "Kp sum 212584.45278409214\n",
      "Theoretical min 0.21258445278409213\n",
      "Actual min [[1.13196859e-06]]\n",
      "i = 17\n",
      "Kp sum 268799.13279859466\n",
      "Theoretical min 0.26879913279859463\n",
      "Actual min [[1.01483376e-07]]\n",
      "i = 18\n",
      "Kp sum 218436.0282194068\n",
      "Theoretical min 0.2184360282194068\n",
      "Actual min [[3.40966734e-06]]\n",
      "i = 19\n",
      "Kp sum 188808.55317339767\n",
      "Theoretical min 0.18880855317339768\n",
      "Actual min [[3.25782067e-07]]\n",
      "i = 20\n",
      "Kp sum 209327.42820875373\n",
      "Theoretical min 0.20932742820875372\n",
      "Actual min [[6.63274945e-07]]\n",
      "i = 21\n",
      "Kp sum 227420.44674088556\n",
      "Theoretical min 0.22742044674088555\n",
      "Actual min [[5.60104975e-07]]\n",
      "i = 22\n",
      "Kp sum 168949.67986264685\n",
      "Theoretical min 0.16894967986264686\n",
      "Actual min [[3.29804578e-06]]\n",
      "i = 23\n",
      "Kp sum 208701.8324686938\n",
      "Theoretical min 0.2087018324686938\n",
      "Actual min [[1.17146471e-07]]\n",
      "i = 24\n",
      "Kp sum 290673.06001791556\n",
      "Theoretical min 0.29067306001791554\n",
      "Actual min [[8.36842232e-07]]\n",
      "i = 25\n",
      "Kp sum 256001.71059193727\n",
      "Theoretical min 0.25600171059193727\n",
      "Actual min [[6.61843084e-08]]\n",
      "i = 26\n",
      "Kp sum 250259.1103834101\n",
      "Theoretical min 0.2502591103834101\n",
      "Actual min [[4.9339563e-07]]\n",
      "i = 27\n",
      "Kp sum 181898.37229414174\n",
      "Theoretical min 0.18189837229414174\n",
      "Actual min [[5.53746889e-06]]\n",
      "i = 28\n",
      "Kp sum 245392.4223982704\n",
      "Theoretical min 0.2453924223982704\n",
      "Actual min [[5.63705246e-07]]\n",
      "i = 29\n",
      "Kp sum 224066.80150276652\n",
      "Theoretical min 0.22406680150276653\n",
      "Actual min [[1.37254786e-07]]\n",
      "i = 30\n",
      "Kp sum 209395.20215711504\n",
      "Theoretical min 0.20939520215711505\n",
      "Actual min [[1.42363453e-06]]\n",
      "i = 31\n",
      "Kp sum 233189.66297378376\n",
      "Theoretical min 0.23318966297378377\n",
      "Actual min [[5.20312869e-05]]\n",
      "i = 32\n",
      "Kp sum 191415.35192789577\n",
      "Theoretical min 0.19141535192789577\n",
      "Actual min [[3.17729894e-06]]\n",
      "i = 33\n",
      "Kp sum 250664.504754344\n",
      "Theoretical min 0.250664504754344\n",
      "Actual min [[1.19637729e-06]]\n",
      "i = 34\n",
      "Kp sum 278729.18416701327\n",
      "Theoretical min 0.27872918416701326\n",
      "Actual min [[1.06526414e-07]]\n",
      "i = 35\n",
      "Kp sum 211454.1455202945\n",
      "Theoretical min 0.21145414552029448\n",
      "Actual min [[2.24372076e-08]]\n",
      "i = 36\n",
      "Kp sum 267425.1433703994\n",
      "Theoretical min 0.2674251433703994\n",
      "Actual min [[4.64321026e-08]]\n",
      "i = 37\n",
      "Kp sum 299026.3231891533\n",
      "Theoretical min 0.2990263231891533\n",
      "Actual min [[3.35157483e-08]]\n",
      "i = 38\n",
      "Kp sum 252744.42573204683\n",
      "Theoretical min 0.2527444257320468\n",
      "Actual min [[2.80413959e-05]]\n",
      "i = 39\n",
      "Kp sum 251010.09455031643\n",
      "Theoretical min 0.2510100945503164\n",
      "Actual min [[1.07612331e-06]]\n",
      "i = 40\n",
      "Kp sum 234673.98404684744\n",
      "Theoretical min 0.23467398404684744\n",
      "Actual min [[2.2515842e-06]]\n",
      "i = 41\n",
      "Kp sum 169507.62397558813\n",
      "Theoretical min 0.16950762397558813\n",
      "Actual min [[4.78743206e-07]]\n",
      "i = 42\n",
      "Kp sum 284244.93389872194\n",
      "Theoretical min 0.28424493389872196\n",
      "Actual min [[1.15984434e-05]]\n",
      "i = 43\n",
      "Kp sum 276818.62864887627\n",
      "Theoretical min 0.2768186286488763\n",
      "Actual min [[1.37400785e-06]]\n",
      "i = 44\n",
      "Kp sum 239973.66972548325\n",
      "Theoretical min 0.23997366972548326\n",
      "Actual min [[3.08595661e-06]]\n",
      "i = 45\n",
      "Kp sum 279300.2715341898\n",
      "Theoretical min 0.2793002715341898\n",
      "Actual min [[2.66495535e-08]]\n",
      "i = 46\n",
      "Kp sum 192989.5670242922\n",
      "Theoretical min 0.19298956702429218\n",
      "Actual min [[1.7517995e-08]]\n",
      "i = 47\n",
      "Kp sum 258046.0783037154\n",
      "Theoretical min 0.2580460783037154\n",
      "Actual min [[7.72127235e-08]]\n",
      "i = 48\n",
      "Kp sum 241048.59895884115\n",
      "Theoretical min 0.24104859895884115\n",
      "Actual min [[7.01533444e-09]]\n",
      "i = 49\n",
      "Kp sum 168125.51042844687\n",
      "Theoretical min 0.16812551042844687\n",
      "Actual min [[2.7817458e-07]]\n",
      "i = 50\n",
      "Kp sum 244182.84987668094\n",
      "Theoretical min 0.24418284987668093\n",
      "Actual min [[8.80413155e-07]]\n",
      "i = 51\n",
      "Kp sum 268770.0222171234\n",
      "Theoretical min 0.2687700222171234\n",
      "Actual min [[7.94421294e-08]]\n",
      "i = 52\n",
      "Kp sum 249286.9613520318\n",
      "Theoretical min 0.2492869613520318\n",
      "Actual min [[7.96872358e-09]]\n",
      "i = 53\n",
      "Kp sum 237872.79010989305\n",
      "Theoretical min 0.23787279010989304\n",
      "Actual min [[1.74285534e-06]]\n",
      "i = 54\n",
      "Kp sum 226285.44289999103\n",
      "Theoretical min 0.22628544289999103\n",
      "Actual min [[3.2539964e-07]]\n",
      "i = 55\n",
      "Kp sum 261469.28369195608\n",
      "Theoretical min 0.2614692836919561\n",
      "Actual min [[1.70188766e-06]]\n",
      "i = 56\n",
      "Kp sum 213262.53482936512\n",
      "Theoretical min 0.2132625348293651\n",
      "Actual min [[8.55699496e-05]]\n",
      "i = 57\n",
      "Kp sum 187346.26082244545\n",
      "Theoretical min 0.18734626082244543\n",
      "Actual min [[1.02248435e-07]]\n",
      "i = 58\n",
      "Kp sum 201887.28212920766\n",
      "Theoretical min 0.20188728212920765\n",
      "Actual min [[7.93118609e-06]]\n",
      "i = 59\n",
      "Kp sum 247754.67038225848\n",
      "Theoretical min 0.24775467038225849\n",
      "Actual min [[2.74420457e-08]]\n",
      "i = 60\n",
      "Kp sum 220626.37624040755\n",
      "Theoretical min 0.22062637624040754\n",
      "Actual min [[3.05248156e-08]]\n",
      "i = 61\n",
      "Kp sum 236893.21965215812\n",
      "Theoretical min 0.23689321965215812\n",
      "Actual min [[7.43282148e-07]]\n",
      "i = 62\n",
      "Kp sum 212214.55650763187\n",
      "Theoretical min 0.21221455650763188\n",
      "Actual min [[4.51841791e-09]]\n",
      "i = 63\n",
      "Kp sum 167267.72401812658\n",
      "Theoretical min 0.1672677240181266\n",
      "Actual min [[7.20704252e-08]]\n",
      "i = 64\n",
      "Kp sum 216151.76787238783\n",
      "Theoretical min 0.21615176787238782\n",
      "Actual min [[1.01485853e-08]]\n",
      "i = 65\n",
      "Kp sum 143900.49003748922\n",
      "Theoretical min 0.14390049003748923\n",
      "Actual min [[1.22911782e-08]]\n",
      "i = 66\n",
      "Kp sum 254712.91900576543\n",
      "Theoretical min 0.2547129190057654\n",
      "Actual min [[4.83292299e-08]]\n",
      "i = 67\n",
      "Kp sum 208001.81984897706\n",
      "Theoretical min 0.20800181984897706\n",
      "Actual min [[2.04410953e-05]]\n",
      "i = 68\n",
      "Kp sum 228892.37836703935\n",
      "Theoretical min 0.22889237836703935\n",
      "Actual min [[3.79939458e-08]]\n",
      "i = 69\n",
      "Kp sum 322731.8856972139\n",
      "Theoretical min 0.3227318856972139\n",
      "Actual min [[6.23833778e-08]]\n",
      "i = 70\n",
      "Kp sum 225411.294728503\n",
      "Theoretical min 0.22541129472850302\n",
      "Actual min [[5.61671795e-08]]\n",
      "i = 71\n",
      "Kp sum 173398.10345904535\n",
      "Theoretical min 0.17339810345904536\n",
      "Actual min [[2.45895659e-07]]\n",
      "i = 72\n",
      "Kp sum 237055.34788188708\n",
      "Theoretical min 0.2370553478818871\n",
      "Actual min [[2.64499475e-05]]\n",
      "i = 73\n",
      "Kp sum 280814.5224387421\n",
      "Theoretical min 0.2808145224387421\n",
      "Actual min [[1.0953559e-07]]\n",
      "i = 74\n",
      "Kp sum 214047.58949991156\n",
      "Theoretical min 0.21404758949991157\n",
      "Actual min [[8.93178359e-09]]\n",
      "i = 75\n",
      "Kp sum 229835.07465903147\n",
      "Theoretical min 0.22983507465903147\n",
      "Actual min [[1.4886155e-06]]\n",
      "i = 76\n",
      "Kp sum 311159.23800494755\n",
      "Theoretical min 0.31115923800494755\n",
      "Actual min [[5.64935462e-07]]\n",
      "i = 77\n",
      "Kp sum 240940.9909383764\n",
      "Theoretical min 0.2409409909383764\n",
      "Actual min [[1.9497365e-08]]\n",
      "i = 78\n",
      "Kp sum 259628.11149515994\n",
      "Theoretical min 0.25962811149515996\n",
      "Actual min [[6.1972929e-05]]\n",
      "i = 79\n",
      "Kp sum 241406.71556549345\n",
      "Theoretical min 0.24140671556549345\n",
      "Actual min [[3.03123119e-06]]\n",
      "i = 80\n",
      "Kp sum 162961.65228296287\n",
      "Theoretical min 0.16296165228296286\n",
      "Actual min [[1.1339727e-06]]\n",
      "i = 81\n",
      "Kp sum 197338.12251016786\n",
      "Theoretical min 0.19733812251016786\n",
      "Actual min [[1.08799464e-06]]\n",
      "i = 82\n",
      "Kp sum 208507.75365456357\n",
      "Theoretical min 0.20850775365456356\n",
      "Actual min [[9.21926232e-05]]\n",
      "i = 83\n",
      "Kp sum 236430.95757796118\n",
      "Theoretical min 0.23643095757796118\n"
     ]
    },
    {
     "name": "stdout",
     "output_type": "stream",
     "text": [
      "Actual min [[4.3957072e-07]]\n",
      "i = 84\n",
      "Kp sum 233557.6964554998\n",
      "Theoretical min 0.23355769645549979\n",
      "Actual min [[1.85905234e-08]]\n",
      "i = 85\n",
      "Kp sum 233094.21936947084\n",
      "Theoretical min 0.23309421936947083\n",
      "Actual min [[1.11119319e-05]]\n",
      "i = 86\n",
      "Kp sum 228512.1886053523\n",
      "Theoretical min 0.2285121886053523\n",
      "Actual min [[5.74976733e-06]]\n",
      "i = 87\n",
      "Kp sum 214879.55056357122\n",
      "Theoretical min 0.21487955056357122\n",
      "Actual min [[2.78993012e-06]]\n",
      "i = 88\n",
      "Kp sum 245026.39035128054\n",
      "Theoretical min 0.24502639035128054\n",
      "Actual min [[2.46999553e-08]]\n",
      "i = 89\n",
      "Kp sum 236067.0087514528\n",
      "Theoretical min 0.2360670087514528\n",
      "Actual min [[7.94319667e-07]]\n",
      "i = 90\n",
      "Kp sum 169776.76066780314\n",
      "Theoretical min 0.16977676066780314\n",
      "Actual min [[2.82289597e-06]]\n",
      "i = 91\n",
      "Kp sum 166209.87109554996\n",
      "Theoretical min 0.16620987109554997\n",
      "Actual min [[5.11587561e-06]]\n",
      "i = 92\n",
      "Kp sum 212225.3734589763\n",
      "Theoretical min 0.2122253734589763\n",
      "Actual min [[2.64801692e-07]]\n",
      "i = 93\n",
      "Kp sum 193783.36810266375\n",
      "Theoretical min 0.19378336810266375\n",
      "Actual min [[8.91947562e-08]]\n",
      "i = 94\n",
      "Kp sum 200737.27832901923\n",
      "Theoretical min 0.20073727832901922\n",
      "Actual min [[1.11121667e-06]]\n",
      "i = 95\n",
      "Kp sum 325912.5935203745\n",
      "Theoretical min 0.3259125935203745\n",
      "Actual min [[3.41190859e-07]]\n",
      "i = 96\n",
      "Kp sum 328631.1857773481\n",
      "Theoretical min 0.3286311857773481\n",
      "Actual min [[6.39264532e-06]]\n",
      "i = 97\n",
      "Kp sum 237441.21909648724\n",
      "Theoretical min 0.23744121909648724\n",
      "Actual min [[2.3064304e-08]]\n",
      "i = 98\n",
      "Kp sum 250765.73801200793\n",
      "Theoretical min 0.2507657380120079\n",
      "Actual min [[1.20976051e-06]]\n",
      "i = 99\n",
      "Kp sum 234388.63665762005\n",
      "Theoretical min 0.23438863665762005\n",
      "Actual min [[9.5052429e-09]]\n"
     ]
    },
    {
     "data": {
      "text/plain": [
       "0.15894532485617152"
      ]
     },
     "execution_count": 64,
     "metadata": {},
     "output_type": "execute_result"
    }
   ],
   "source": [
    "est_mat, MC_mat = test_h(alpha = 0.75, h = 0.2)\n",
    "\n",
    "# Stein mean\n",
    "est_mat.mean()"
   ]
  },
  {
   "cell_type": "code",
   "execution_count": 65,
   "metadata": {},
   "outputs": [
    {
     "data": {
      "text/plain": [
       "1.8138913741225364e-06"
      ]
     },
     "execution_count": 65,
     "metadata": {},
     "output_type": "execute_result"
    }
   ],
   "source": [
    "# Stein MSE\n",
    "np.square(est_mat - (1 - norm.cdf(1))).sum() / est_mat.shape[0]"
   ]
  },
  {
   "cell_type": "code",
   "execution_count": null,
   "metadata": {},
   "outputs": [],
   "source": []
  },
  {
   "cell_type": "code",
   "execution_count": null,
   "metadata": {},
   "outputs": [],
   "source": []
  },
  {
   "cell_type": "code",
   "execution_count": null,
   "metadata": {},
   "outputs": [],
   "source": []
  },
  {
   "cell_type": "code",
   "execution_count": 239,
   "metadata": {},
   "outputs": [],
   "source": [
    "# goal: compute Prob(X > gamma) where X ~ truncated normal(0, 1; [0, infinity))"
   ]
  },
  {
   "cell_type": "code",
   "execution_count": 330,
   "metadata": {},
   "outputs": [],
   "source": [
    "def density(X):\n",
    "    return truncnorm.pdf(X, 0, np.Inf, loc = 0, scale = 1)\n",
    "\n",
    "def grad_density(X):\n",
    "    return np.multiply(-X, truncnorm.pdf(X, 0, np.Inf, loc = 0, scale = 1))\n",
    "\n",
    "def left_score_fn(X):\n",
    "    Z = np.array([X])\n",
    "    Y = np.transpose(Z)\n",
    "    return np.divide(grad_density(Y), density(Y))\n",
    "    \n",
    "def right_score_fn(X):\n",
    "    return np.transpose(left_score_fn(X))\n",
    "\n",
    "def constr(X):\n",
    "    return X - 0\n",
    "\n",
    "def grad_constr(X):\n",
    "    return np.ones(X.shape)\n",
    "\n",
    "def k_mat(X, h, c):\n",
    "    \n",
    "    Z = np.array([X])\n",
    "    Y = np.transpose(Z)\n",
    "    term1 = Y - Z\n",
    "    term2 = np.log(constr(Y)) - np.log(constr(Z))\n",
    "    \n",
    "    return np.exp(- np.square(term1) / 2 / h**2 - np.square(term2) * c / 2)\n",
    "\n",
    "def grad_left_k_mat(X, h, c):\n",
    "    \n",
    "    Z = np.array([X])\n",
    "    Y = np.transpose(Z)\n",
    "    term1 = Y - Z\n",
    "    term2 = np.log(constr(Y)) - np.log(constr(Z))\n",
    "    term3 = np.divide(grad_constr(Y), constr(Y))\n",
    "    \n",
    "    return np.multiply(k_mat(X, h, c), - term1 / h**2 - c * np.multiply(term2, term3)), - term1 / h**2 - c * np.multiply(term2, term3)\n",
    "\n",
    "def grad_right_k_mat(X, h, c):\n",
    "    \n",
    "    Z = np.array([X])\n",
    "    Y = np.transpose(Z)\n",
    "    term1 = Y - Z\n",
    "    term2 = np.log(constr(Y)) - np.log(constr(Z))\n",
    "    term3 = np.divide(grad_constr(Z), constr(Z))\n",
    "    \n",
    "    return np.multiply(k_mat(X, h, c), term1 / h**2 + c * np.multiply(term2, term3)), term1 / h**2 + c * np.multiply(term2, term3)\n",
    "    \n",
    "def Hessian_k_mat(X, h, c):\n",
    "    \n",
    "    Z = np.array([X])\n",
    "    Y = np.transpose(Z)\n",
    "    grad_left, byproduct_left = grad_left_k_mat(X, h, c)\n",
    "    grad_right, byproduct_right = grad_right_k_mat(X, h, c)\n",
    "    term = 1 / h**2 + c * np.multiply(np.divide(grad_constr(Y), constr(Y)), np.divide(grad_constr(Z), constr(Z)))\n",
    "    \n",
    "    return np.multiply(k_mat(X, h, c), term) + np.multiply(k_mat(X, h, c), np.multiply(byproduct_left, byproduct_right))"
   ]
  },
  {
   "cell_type": "code",
   "execution_count": 331,
   "metadata": {},
   "outputs": [],
   "source": [
    "from cvxopt import matrix, solvers\n",
    "solvers.options['show_progress'] = False\n",
    "\n",
    "def hh(X, gamma):\n",
    "    Y = np.array([X])\n",
    "    return Y > gamma\n",
    "\n",
    "def test_h(h, c, n = 1000, gamma = 1, iters = 100, mode = 1):\n",
    "    \n",
    "    est_mat = np.zeros(iters)\n",
    "    MC_mat = np.zeros(iters)\n",
    "    \n",
    "    for i in range(iters):\n",
    "        \n",
    "        if mode == 1:\n",
    "            X = truncnorm.rvs(0, np.Inf, loc = 0, scale = 1, size = n)\n",
    "        elif mode == 2:\n",
    "            X = expon.rvs(size = n)\n",
    "        else:\n",
    "            X = truncnorm.rvs(0, np.Inf, loc = 0, scale = 1, size = n) / 2\n",
    "\n",
    "        grad_left, _ = grad_left_k_mat(X, h, c)\n",
    "        grad_right, _ = grad_right_k_mat(X, h, c)\n",
    "        Kp = np.multiply(left_score_fn(X), np.multiply(k_mat(X, h, c), right_score_fn(X))) + np.multiply(left_score_fn(X), grad_right) +  \\\n",
    "             np.multiply(grad_left, right_score_fn(X)) + Hessian_k_mat(X, h, c)\n",
    "    \n",
    "        d = Kp.shape[0]\n",
    "        Q = 2 * matrix(Kp)\n",
    "        p = matrix(np.zeros(d))\n",
    "        G = matrix(- np.identity(d))\n",
    "        H = matrix(np.zeros(d))\n",
    "        A = matrix(np.ones(d), (1, d))\n",
    "        b = matrix(1.0)\n",
    "        res = solvers.qp(Q, p, G, H, A, b)\n",
    "        w = np.array(res['x'])\n",
    "    \n",
    "        est = np.dot(hh(X, gamma), w)\n",
    "        est_mat[i] = est\n",
    "        MC_mat[i] = hh(X, gamma).mean()\n",
    "        \n",
    "    return est_mat, MC_mat"
   ]
  },
  {
   "cell_type": "code",
   "execution_count": 316,
   "metadata": {},
   "outputs": [
    {
     "data": {
      "text/plain": [
       "0.31731050786291415"
      ]
     },
     "execution_count": 316,
     "metadata": {},
     "output_type": "execute_result"
    }
   ],
   "source": [
    "# true answer\n",
    "ans = 1 - truncnorm.cdf(1, 0, np.Inf, loc = 0, scale = 1)\n",
    "ans"
   ]
  },
  {
   "cell_type": "code",
   "execution_count": 325,
   "metadata": {},
   "outputs": [
    {
     "data": {
      "text/plain": [
       "0.31854000000000005"
      ]
     },
     "execution_count": 325,
     "metadata": {},
     "output_type": "execute_result"
    }
   ],
   "source": [
    "est_mat, MC_mat = test_h(h = 1, c = 1, n = 1000, iters = 100, mode = 1)\n",
    "\n",
    "# MC mean\n",
    "MC_mat.mean()"
   ]
  },
  {
   "cell_type": "code",
   "execution_count": 326,
   "metadata": {},
   "outputs": [
    {
     "data": {
      "text/plain": [
       "0.00024622005091515616"
      ]
     },
     "execution_count": 326,
     "metadata": {},
     "output_type": "execute_result"
    }
   ],
   "source": [
    "# MC MSE\n",
    "np.square(MC_mat - ans).sum() / MC_mat.shape[0]"
   ]
  },
  {
   "cell_type": "code",
   "execution_count": 327,
   "metadata": {},
   "outputs": [
    {
     "data": {
      "text/plain": [
       "0.39784657115136585"
      ]
     },
     "execution_count": 327,
     "metadata": {},
     "output_type": "execute_result"
    }
   ],
   "source": [
    "# Stein mean\n",
    "est_mat.mean()"
   ]
  },
  {
   "cell_type": "code",
   "execution_count": 328,
   "metadata": {},
   "outputs": [
    {
     "data": {
      "text/plain": [
       "0.009726073531384757"
      ]
     },
     "execution_count": 328,
     "metadata": {},
     "output_type": "execute_result"
    }
   ],
   "source": [
    "# Stein MSE\n",
    "np.square(est_mat - ans).sum() / est_mat.shape[0]"
   ]
  },
  {
   "cell_type": "code",
   "execution_count": 332,
   "metadata": {},
   "outputs": [
    {
     "data": {
      "text/plain": [
       "0.39215634542528205"
      ]
     },
     "execution_count": 332,
     "metadata": {},
     "output_type": "execute_result"
    }
   ],
   "source": [
    "est_mat, MC_mat = test_h(h = 1, c = 1, n = 1000, iters = 100, mode = 2)\n",
    "\n",
    "# Stein mean\n",
    "est_mat.mean()"
   ]
  },
  {
   "cell_type": "code",
   "execution_count": 333,
   "metadata": {},
   "outputs": [
    {
     "data": {
      "text/plain": [
       "0.00921943782923424"
      ]
     },
     "execution_count": 333,
     "metadata": {},
     "output_type": "execute_result"
    }
   ],
   "source": [
    "# Stein MSE\n",
    "np.square(est_mat - ans).sum() / est_mat.shape[0]"
   ]
  },
  {
   "cell_type": "code",
   "execution_count": 334,
   "metadata": {},
   "outputs": [
    {
     "data": {
      "text/plain": [
       "0.29154407621830836"
      ]
     },
     "execution_count": 334,
     "metadata": {},
     "output_type": "execute_result"
    }
   ],
   "source": [
    "est_mat, MC_mat = test_h(h = 1, c = 1, n = 1000, iters = 100, mode = 3)\n",
    "\n",
    "# Stein mean\n",
    "est_mat.mean()"
   ]
  },
  {
   "cell_type": "code",
   "execution_count": 335,
   "metadata": {},
   "outputs": [
    {
     "data": {
      "text/plain": [
       "0.009413472147940312"
      ]
     },
     "execution_count": 335,
     "metadata": {},
     "output_type": "execute_result"
    }
   ],
   "source": [
    "# Stein MSE\n",
    "np.square(est_mat - ans).sum() / est_mat.shape[0]"
   ]
  },
  {
   "cell_type": "code",
   "execution_count": 336,
   "metadata": {},
   "outputs": [
    {
     "data": {
      "text/plain": [
       "0.33782270415911314"
      ]
     },
     "execution_count": 336,
     "metadata": {},
     "output_type": "execute_result"
    }
   ],
   "source": [
    "est_mat, MC_mat = test_h(h = 1, c = 1, n = 4000, iters = 100, mode = 1)\n",
    "\n",
    "# Stein mean\n",
    "est_mat.mean()"
   ]
  },
  {
   "cell_type": "code",
   "execution_count": 337,
   "metadata": {},
   "outputs": [
    {
     "data": {
      "text/plain": [
       "0.003873786665526392"
      ]
     },
     "execution_count": 337,
     "metadata": {},
     "output_type": "execute_result"
    }
   ],
   "source": [
    "# Stein MSE\n",
    "np.square(est_mat - ans).sum() / est_mat.shape[0]"
   ]
  },
  {
   "cell_type": "code",
   "execution_count": 338,
   "metadata": {},
   "outputs": [
    {
     "data": {
      "text/plain": [
       "0.38690024200056705"
      ]
     },
     "execution_count": 338,
     "metadata": {},
     "output_type": "execute_result"
    }
   ],
   "source": [
    "est_mat, MC_mat = test_h(h = 1, c = 1, n = 4000, iters = 100, mode = 2)\n",
    "\n",
    "# Stein mean\n",
    "est_mat.mean()"
   ]
  },
  {
   "cell_type": "code",
   "execution_count": 339,
   "metadata": {},
   "outputs": [
    {
     "data": {
      "text/plain": [
       "0.00657514993460386"
      ]
     },
     "execution_count": 339,
     "metadata": {},
     "output_type": "execute_result"
    }
   ],
   "source": [
    "# Stein MSE\n",
    "np.square(est_mat - ans).sum() / est_mat.shape[0]"
   ]
  },
  {
   "cell_type": "code",
   "execution_count": 347,
   "metadata": {},
   "outputs": [
    {
     "data": {
      "text/plain": [
       "0.3968438364108202"
      ]
     },
     "execution_count": 347,
     "metadata": {},
     "output_type": "execute_result"
    }
   ],
   "source": [
    "est_mat, MC_mat = test_h(h = 1, c = 1, n = 250, iters = 100, mode = 1)\n",
    "\n",
    "# Stein mean\n",
    "est_mat.mean()"
   ]
  },
  {
   "cell_type": "code",
   "execution_count": 348,
   "metadata": {},
   "outputs": [
    {
     "data": {
      "text/plain": [
       "0.014774097230503394"
      ]
     },
     "execution_count": 348,
     "metadata": {},
     "output_type": "execute_result"
    }
   ],
   "source": [
    "# Stein MSE\n",
    "np.square(est_mat - ans).sum() / est_mat.shape[0]"
   ]
  },
  {
   "cell_type": "code",
   "execution_count": null,
   "metadata": {},
   "outputs": [],
   "source": []
  },
  {
   "cell_type": "code",
   "execution_count": null,
   "metadata": {},
   "outputs": [],
   "source": []
  },
  {
   "cell_type": "code",
   "execution_count": null,
   "metadata": {},
   "outputs": [],
   "source": []
  },
  {
   "cell_type": "code",
   "execution_count": 352,
   "metadata": {},
   "outputs": [],
   "source": [
    "# goal: compute Prob((X - 0.5) * Indicator(X > 0.5)) where X ~ Beta(2, 2)"
   ]
  },
  {
   "cell_type": "code",
   "execution_count": 358,
   "metadata": {},
   "outputs": [],
   "source": [
    "def density(X):\n",
    "    return beta.pdf(X, a = 2, b = 2)\n",
    "\n",
    "def grad_density(X):\n",
    "    return 6 - 12 * X   # a = b = 2\n",
    "\n",
    "def left_score_fn(X):\n",
    "    Z = np.array([X])\n",
    "    Y = np.transpose(Z)\n",
    "    return np.divide(grad_density(Y), density(Y))\n",
    "    \n",
    "def right_score_fn(X):\n",
    "    return np.transpose(left_score_fn(X))\n",
    "\n",
    "def constr1(X):\n",
    "    return X - 0\n",
    "\n",
    "def grad_constr1(X):\n",
    "    return np.ones(X.shape)\n",
    "\n",
    "def constr2(X):\n",
    "    return 1 - X\n",
    "\n",
    "def grad_constr2(X):\n",
    "    return -np.ones(X.shape)\n",
    "\n",
    "def k_mat(X, h, c1, c2):\n",
    "    \n",
    "    Z = np.array([X])\n",
    "    Y = np.transpose(Z)\n",
    "    term1 = Y - Z\n",
    "    term2 = np.log(constr1(Y)) - np.log(constr1(Z))\n",
    "    term3 = np.log(constr2(Y)) - np.log(constr2(Z))\n",
    "    \n",
    "    return np.exp(- np.square(term1) / 2 / h**2 - np.square(term2) * c1 / 2 - np.square(term3) * c2 / 2)\n",
    "\n",
    "def grad_left_k_mat(X, h, c1, c2):\n",
    "    \n",
    "    Z = np.array([X])\n",
    "    Y = np.transpose(Z)\n",
    "    term1 = Y - Z\n",
    "    term2 = np.log(constr1(Y)) - np.log(constr1(Z))\n",
    "    term3 = np.divide(grad_constr1(Y), constr1(Y))\n",
    "    term4 = np.log(constr2(Y)) - np.log(constr2(Z))\n",
    "    term5 = np.divide(grad_constr2(Y), constr2(Y))\n",
    "    \n",
    "    return np.multiply(k_mat(X, h, c1, c2), - term1 / h**2 - c1 * np.multiply(term2, term3) - c2 * np.multiply(term4, term5)), - term1 / h**2 - c1 * np.multiply(term2, term3) - c2 * np.multiply(term4, term5)\n",
    "\n",
    "def grad_right_k_mat(X, h, c1, c2):\n",
    "    \n",
    "    Z = np.array([X])\n",
    "    Y = np.transpose(Z)\n",
    "    term1 = Y - Z\n",
    "    term2 = np.log(constr1(Y)) - np.log(constr1(Z))\n",
    "    term3 = np.divide(grad_constr1(Z), constr1(Z))\n",
    "    term4 = np.log(constr2(Y)) - np.log(constr2(Z))\n",
    "    term5 = np.divide(grad_constr2(Z), constr2(Z))\n",
    "    \n",
    "    return np.multiply(k_mat(X, h, c1, c2), term1 / h**2 + c1 * np.multiply(term2, term3) + c2 * np.multiply(term4, term5)), term1 / h**2 + c1 * np.multiply(term2, term3) + c2 * np.multiply(term4, term5)\n",
    "    \n",
    "def Hessian_k_mat(X, h, c1, c2):\n",
    "    \n",
    "    Z = np.array([X])\n",
    "    Y = np.transpose(Z)\n",
    "    grad_left, byproduct_left = grad_left_k_mat(X, h, c1, c2)\n",
    "    grad_right, byproduct_right = grad_right_k_mat(X, h, c1, c2)\n",
    "    term = 1 / h**2 + c1 * np.multiply(np.divide(grad_constr1(Y), constr1(Y)), np.divide(grad_constr1(Z), constr1(Z))) + c2 * np.multiply(np.divide(grad_constr2(Y), constr2(Y)), np.divide(grad_constr2(Z), constr2(Z)))\n",
    "    \n",
    "    return np.multiply(k_mat(X, h, c1, c2), term) + np.multiply(k_mat(X, h, c1, c2), np.multiply(byproduct_left, byproduct_right))"
   ]
  },
  {
   "cell_type": "markdown",
   "metadata": {},
   "source": [
    "X = beta.rvs(a = 2, b = 2, size = 100)\n",
    "\n",
    "h = 1\n",
    "c1 = 1\n",
    "c2 = 1\n",
    "grad_left, _ = grad_left_k_mat(X, h, c1, c2)\n",
    "grad_right, _ = grad_right_k_mat(X, h, c1, c2)\n",
    "Kp = np.multiply(left_score_fn(X), np.multiply(k_mat(X, h, c1, c2), right_score_fn(X))) + np.multiply(left_score_fn(X), grad_right) +  \\\n",
    "    np.multiply(grad_left, right_score_fn(X)) + Hessian_k_mat(X, h, c1, c2)\n",
    "Kp"
   ]
  },
  {
   "cell_type": "markdown",
   "metadata": {},
   "source": [
    "def verify_Kp_beta(X, h, c1, c2):\n",
    "    \n",
    "    n = X.shape[0]\n",
    "    Kp = np.zeros((n, n))\n",
    "    \n",
    "    for i in range(n):\n",
    "        for j in range(n):\n",
    "            x = X[i]\n",
    "            y = X[j]\n",
    "            term1 = - np.square(x - y) / 2 / h**2\n",
    "            term2 = - c1 * np.square(np.log(x) - np.log(y)) / 2\n",
    "            term3 = - c2 * np.square(np.log(1 - x) - np.log(1 - y)) / 2\n",
    "            term4 = - ((x - y) / h**2 + c1 * (np.log(x) - np.log(y)) / x + c2 * (np.log(1 - x) - np.log(1 - y)) / (x - 1)) \n",
    "            term5 = (x - y) / h**2 + c1 * (np.log(x) - np.log(y)) / y + c2 * (np.log(1 - x) - np.log(1 - y)) / (y - 1)\n",
    "            \n",
    "            s_x = (1 - 2 * x) / x / (1 - x)\n",
    "            s_y = (1 - 2 * y) / y / (1 - y)\n",
    "            \n",
    "            Kp[i, j] += np.exp(term1 + term2 + term3) * s_x * s_y + s_x * np.exp(term1 + term2 + term3) * term5 + s_y * np.exp(term1 + term2 + term3) * term4 + np.exp(term1 + term2 + term3) * ((1 / h**2 + c1 / x / y + c2 / (1 - x) / (1 - y)) + term4 * term5)\n",
    "    \n",
    "    return Kp"
   ]
  },
  {
   "cell_type": "markdown",
   "metadata": {},
   "source": [
    "Kp_v = verify_Kp_beta(X, h = 1, c1 = 1, c2 = 1)\n",
    "np.square((Kp_v - Kp)).sum()"
   ]
  },
  {
   "cell_type": "code",
   "execution_count": 367,
   "metadata": {},
   "outputs": [],
   "source": [
    "from cvxopt import matrix, solvers\n",
    "solvers.options['show_progress'] = False\n",
    "\n",
    "def hh(X, gamma):\n",
    "    Y = np.array([X])\n",
    "    return np.multiply(Y > gamma, Y - gamma)\n",
    "\n",
    "def test_h_c1_c2(h, c1, c2, n = 1000, gamma = 0.5, iters = 100):\n",
    "    \n",
    "    est_mat = np.zeros(iters)\n",
    "    MC_mat = np.zeros(iters)\n",
    "    \n",
    "    for i in range(iters):\n",
    "        \n",
    "        X = beta.rvs(a = 2, b = 2, size = n)\n",
    "\n",
    "        grad_left, _ = grad_left_k_mat(X, h, c1, c2)\n",
    "        grad_right, _ = grad_right_k_mat(X, h, c1, c2)\n",
    "        Kp = np.multiply(left_score_fn(X), np.multiply(k_mat(X, h, c1, c2), right_score_fn(X))) + np.multiply(left_score_fn(X), grad_right) +  \\\n",
    "             np.multiply(grad_left, right_score_fn(X)) + Hessian_k_mat(X, h, c1, c2)\n",
    "    \n",
    "        d = Kp.shape[0]\n",
    "        Q = 2 * matrix(Kp)\n",
    "        p = matrix(np.zeros(d))\n",
    "        G = matrix(- np.identity(d))\n",
    "        H = matrix(np.zeros(d))\n",
    "        A = matrix(np.ones(d), (1, d))\n",
    "        b = matrix(1.0)\n",
    "        res = solvers.qp(Q, p, G, H, A, b)\n",
    "        w = np.array(res['x'])\n",
    "    \n",
    "        est = np.dot(hh(X, gamma), w)\n",
    "        est_mat[i] = est\n",
    "        MC_mat[i] = hh(X, gamma).mean()\n",
    "        \n",
    "    return est_mat, MC_mat"
   ]
  },
  {
   "cell_type": "code",
   "execution_count": 368,
   "metadata": {},
   "outputs": [
    {
     "data": {
      "text/plain": [
       "0.09375"
      ]
     },
     "execution_count": 368,
     "metadata": {},
     "output_type": "execute_result"
    }
   ],
   "source": [
    "# true answer by hand\n",
    "ans = 3 / 32\n",
    "ans"
   ]
  },
  {
   "cell_type": "code",
   "execution_count": 374,
   "metadata": {},
   "outputs": [
    {
     "data": {
      "text/plain": [
       "0.0935252580816249"
      ]
     },
     "execution_count": 374,
     "metadata": {},
     "output_type": "execute_result"
    }
   ],
   "source": [
    "est_mat, MC_mat = test_h_c1_c2(h = 1, c1 = 1, c2 = 1, n = 1000, gamma = 0.5, iters = 100)\n",
    "\n",
    "# MC mean\n",
    "MC_mat.mean()"
   ]
  },
  {
   "cell_type": "code",
   "execution_count": 375,
   "metadata": {},
   "outputs": [
    {
     "data": {
      "text/plain": [
       "2.205809520118159e-05"
      ]
     },
     "execution_count": 375,
     "metadata": {},
     "output_type": "execute_result"
    }
   ],
   "source": [
    "# MC MSE\n",
    "np.square(MC_mat - ans).sum() / MC_mat.shape[0]"
   ]
  },
  {
   "cell_type": "code",
   "execution_count": 376,
   "metadata": {},
   "outputs": [
    {
     "data": {
      "text/plain": [
       "0.0937197826593041"
      ]
     },
     "execution_count": 376,
     "metadata": {},
     "output_type": "execute_result"
    }
   ],
   "source": [
    "# Stein mean\n",
    "est_mat.mean()"
   ]
  },
  {
   "cell_type": "code",
   "execution_count": 377,
   "metadata": {},
   "outputs": [
    {
     "data": {
      "text/plain": [
       "1.0167164846223063e-05"
      ]
     },
     "execution_count": 377,
     "metadata": {},
     "output_type": "execute_result"
    }
   ],
   "source": [
    "# Stein MSE\n",
    "np.square(est_mat - ans).sum() / est_mat.shape[0]"
   ]
  },
  {
   "cell_type": "code",
   "execution_count": null,
   "metadata": {},
   "outputs": [],
   "source": []
  },
  {
   "cell_type": "code",
   "execution_count": null,
   "metadata": {},
   "outputs": [],
   "source": []
  },
  {
   "cell_type": "code",
   "execution_count": null,
   "metadata": {},
   "outputs": [],
   "source": []
  }
 ],
 "metadata": {
  "kernelspec": {
   "display_name": "Python 3",
   "language": "python",
   "name": "python3"
  },
  "language_info": {
   "codemirror_mode": {
    "name": "ipython",
    "version": 3
   },
   "file_extension": ".py",
   "mimetype": "text/x-python",
   "name": "python",
   "nbconvert_exporter": "python",
   "pygments_lexer": "ipython3",
   "version": "3.6.5"
  }
 },
 "nbformat": 4,
 "nbformat_minor": 2
}
